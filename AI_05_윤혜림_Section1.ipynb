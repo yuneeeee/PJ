{
  "nbformat": 4,
  "nbformat_minor": 0,
  "metadata": {
    "colab": {
      "name": "AI_05_윤혜림_Section1",
      "private_outputs": true,
      "provenance": [],
      "collapsed_sections": [
        "VpgkrUG046gY",
        "UslclS4O0FJG",
        "nThe5zeJ9pWp",
        "ATF_z6Gi6iF5",
        "z_iBnvDqPbB0",
        "Oxmc6tQCP-L3",
        "G15DCwFt3llv"
      ],
      "authorship_tag": "ABX9TyPb/DH6yPedq6n+H/CqrZow",
      "include_colab_link": true
    },
    "kernelspec": {
      "name": "python3",
      "display_name": "Python 3"
    },
    "language_info": {
      "name": "python"
    }
  },
  "cells": [
    {
      "cell_type": "markdown",
      "metadata": {
        "id": "view-in-github",
        "colab_type": "text"
      },
      "source": [
        "<a href=\"https://colab.research.google.com/github/yuneeeee/PJ/blob/main/AI_05_%EC%9C%A4%ED%98%9C%EB%A6%BC_Section1.ipynb\" target=\"_parent\"><img src=\"https://colab.research.google.com/assets/colab-badge.svg\" alt=\"Open In Colab\"/></a>"
      ]
    },
    {
      "cell_type": "code",
      "metadata": {
        "id": "gXETWNmATctK"
      },
      "source": [
        "import pandas as pd\n",
        "import numpy as np\n",
        "from datetime import datetime\n",
        "import seaborn as sns\n",
        "from matplotlib import pyplot as plt\n",
        "import scipy.stats as stats"
      ],
      "execution_count": null,
      "outputs": []
    },
    {
      "cell_type": "code",
      "metadata": {
        "id": "-X7e_Ryznmsh"
      },
      "source": [
        "df = pd.read_csv('https://ds-lecture-data.s3.ap-northeast-2.amazonaws.com/datasets/vgames2.csv' )\n",
        "\n",
        "df = df.loc[:, 'Name': 'Other_Sales']\n",
        "df.head(3)"
      ],
      "execution_count": null,
      "outputs": []
    },
    {
      "cell_type": "markdown",
      "metadata": {
        "id": "AaH7uwJkN5_m"
      },
      "source": [
        "# Processing"
      ]
    },
    {
      "cell_type": "code",
      "metadata": {
        "id": "KUZnGORNzNMo"
      },
      "source": [
        "df = df.dropna() #결측치제거"
      ],
      "execution_count": null,
      "outputs": []
    },
    {
      "cell_type": "code",
      "metadata": {
        "id": "anXVMCr4sYmq"
      },
      "source": [
        "# year_cleaning\n",
        "\n",
        "currentYear = str(datetime.today().year)\n",
        "prefix = int(currentYear[:2])               \n",
        "suffix = int(currentYear[2:]) \n",
        "\n",
        "def year_cleaning(year) :\n",
        "  temp = str(year).split(\".\")[0] # float -> str\n",
        "  tempRange = len(temp)\n",
        "  tempInt = int(temp) # str -> int\n",
        "  tempPrefix = prefix;\n",
        "  if tempRange == 4: # 4자리인경우 그냥 int로 출력\n",
        "    return tempInt\n",
        "  elif tempRange == 2: # 2자리인 경우\n",
        "    if suffix < tempInt: # 현재 년도 뒤 2자리보다 크면 현재 년도 앞 2자리에서 1을 빼고 더해줌 \n",
        "      tempPrefix -= 1\n",
        "      return int(str(tempPrefix) + temp) # 덧셈이 아니라 앞뒤로 붙여야 하기때문에 str로 처리 후 int로 바꿔줌\n",
        "    else:\n",
        "      return int(str(tempPrefix) + temp)\n",
        "  elif tempRange == 1:  \n",
        "     return (tempPrefix * 100) + tempInt\n",
        "  return Nan\n",
        "\n",
        "df[\"Year\"] = df[\"Year\"].apply(year_cleaning)"
      ],
      "execution_count": null,
      "outputs": []
    },
    {
      "cell_type": "code",
      "metadata": {
        "id": "mGtT0U9H4yXV"
      },
      "source": [
        "#Sales_cleaning\n",
        "\n",
        "def getAtNum(sale) :\n",
        "  if sale.find(\"M\") > -1: # M이 들어있으면 M,1000000.0을 리턴해줌\n",
        "    return \"M\", 1000000.0\n",
        "  elif sale.find(\"K\") > -1:\n",
        "    return \"K\", 1000.0\n",
        "  return \"\", 1.0\n",
        "\n",
        "def Sales_cleaning(sale) :\n",
        "  keyword, Num = getAtNum(sale) \n",
        "  return float(sale.replace(keyword, \"\")) * Num # 위에서 리턴 받은 키워드를 공란으로 바꾸고 num을 곱해줌"
      ],
      "execution_count": null,
      "outputs": []
    },
    {
      "cell_type": "code",
      "metadata": {
        "id": "TLEf7OTSGp7c"
      },
      "source": [
        "# NA_Sales\tEU_Sales\tJP_Sales\tOther_Sales\n",
        "df[\"NA_Sales\"] = df[\"NA_Sales\"].apply(Sales_cleaning)\n",
        "df[\"EU_Sales\"] = df[\"EU_Sales\"].apply(Sales_cleaning)\n",
        "df[\"JP_Sales\"] = df[\"JP_Sales\"].apply(Sales_cleaning)\n",
        "df[\"Other_Sales\"] = df[\"Other_Sales\"].apply(Sales_cleaning)"
      ],
      "execution_count": null,
      "outputs": []
    },
    {
      "cell_type": "code",
      "metadata": {
        "id": "M6MRAWgLbs2l"
      },
      "source": [
        "df[\"Total_Sales\"] = df.loc[:, 'NA_Sales': 'Other_Sales'].sum(axis = 1)\n",
        "df[\"Total_Sales\"]"
      ],
      "execution_count": null,
      "outputs": []
    },
    {
      "cell_type": "code",
      "metadata": {
        "id": "ZSB8PIbBhikn"
      },
      "source": [
        "all_sales = df.loc[:, 'NA_Sales': 'Total_Sales']"
      ],
      "execution_count": null,
      "outputs": []
    },
    {
      "cell_type": "code",
      "metadata": {
        "id": "mbcpQPOKIspX"
      },
      "source": [
        "df.describe()"
      ],
      "execution_count": null,
      "outputs": []
    },
    {
      "cell_type": "markdown",
      "metadata": {
        "id": "XbkFkzY0PeIR"
      },
      "source": [
        "# Platform"
      ]
    },
    {
      "cell_type": "code",
      "metadata": {
        "id": "Z5GJMadudLxz"
      },
      "source": [
        "# 플랫폼별 출시량 \n",
        "platform_group = df.groupby('Platform')\n",
        "platform_group = platform_group.size()\n",
        "print('제일 많이 출시 된 Platform과 출시량 :', platform_group.idxmax(axis=1),',',platform_group.max())\n",
        "print('제일 적게 출시 된 Platform과 출시량 :', platform_group.idxmin(axis=1),',',platform_group.min())\n",
        "platform_group.plot(kind='bar',rot=0,figsize=(20,10)); #플랫폼별 출시량 시각화"
      ],
      "execution_count": null,
      "outputs": []
    },
    {
      "cell_type": "code",
      "metadata": {
        "id": "cypYn4SebYZ-"
      },
      "source": [
        "# 플랫폼별 판매량 \n",
        "Platform_Sales = all_sales.groupby(df['Platform']) \n",
        "Platform_Sales = Platform_Sales.sum()\n",
        "Platform_Sales.plot(kind='bar',rot=0,figsize=(20,10)); #플랫폼별 판매량 시각화"
      ],
      "execution_count": null,
      "outputs": []
    },
    {
      "cell_type": "code",
      "metadata": {
        "id": "kVr4ys_AcL0m"
      },
      "source": [
        "# 지역별 많이 팔린 플랫폼\n",
        "Platform_Sales_max=Platform_Sales.idxmax()\n",
        "Platform_Sales_max"
      ],
      "execution_count": null,
      "outputs": []
    },
    {
      "cell_type": "code",
      "metadata": {
        "id": "roNHlENeu6me"
      },
      "source": [
        "# 플랫폼별 제일 많이 판매된 제품\n",
        "Platform_Total_Sales = df['Total_Sales'].groupby([df['Platform']]).max\n",
        "Platform_Total_Sales"
      ],
      "execution_count": null,
      "outputs": []
    },
    {
      "cell_type": "markdown",
      "metadata": {
        "id": "VpgkrUG046gY"
      },
      "source": [
        "# Year"
      ]
    },
    {
      "cell_type": "code",
      "metadata": {
        "id": "UrQwyiiU46gt"
      },
      "source": [
        "# 연도별 판매량 \n",
        "Year_Sales = all_sales.groupby(df['Year']) \n",
        "Year_Sales = Year_Sales.sum()\n",
        "Year_Sales.plot(kind='bar',rot=0,figsize=(20,10)); #연도별 판매량 시각화"
      ],
      "execution_count": null,
      "outputs": []
    },
    {
      "cell_type": "code",
      "metadata": {
        "id": "bOKze5OU46gt"
      },
      "source": [
        "# 지역별 많이 팔린 연도\n",
        "Year_Sales_max=Year_Sales.idxmax()\n",
        "Year_Sales_max"
      ],
      "execution_count": null,
      "outputs": []
    },
    {
      "cell_type": "code",
      "metadata": {
        "id": "e3TIQHUsuAfU"
      },
      "source": [
        "#장르별 출시량\n",
        "cro_Year_Genre = pd.crosstab(df.Genre,df.Year)\n",
        "cro_Year_Genre"
      ],
      "execution_count": null,
      "outputs": []
    },
    {
      "cell_type": "code",
      "metadata": {
        "id": "mhXUuqnqvOKn"
      },
      "source": [
        "#연도별 출시장르\n",
        "cro_Genre_Year = pd.crosstab(df.Year,df.Genre)\n",
        "eighty = cro_Genre_Year[:10].sum()\n",
        "ninety = cro_Genre_Year[10:20].sum()\n",
        "twothou = cro_Genre_Year[20:30].sum()\n",
        "ten = cro_Genre_Year[30:38].sum()\n",
        "twenty = cro_Genre_Year[38:].sum()\n",
        "all = cro_Genre_Year.sum()\n",
        "\n",
        "name = \"80's\", \"90's\", \"00's\", \"10's\", \"20's\", \"all\"\n",
        "cent_year = pd.concat([eighty, ninety, twothou, ten, twenty, all],axis=1)\n",
        "cent_year = pd.DataFrame(cent_year)\n",
        "cent_year.columns = name\n",
        "print(cent_year)\n",
        "cent_year.plot(kind='bar',rot=0,figsize=(20,10)); #연도별 출시장르 시각화\n"
      ],
      "execution_count": null,
      "outputs": []
    },
    {
      "cell_type": "markdown",
      "metadata": {
        "id": "UslclS4O0FJG"
      },
      "source": [
        "# Genre"
      ]
    },
    {
      "cell_type": "code",
      "metadata": {
        "id": "Fn0X-A-n0FJW"
      },
      "source": [
        "# 장르별 출시량 \n",
        "Genre_group = df.groupby('Genre')\n",
        "Genre_group = Genre_group.size()\n",
        "print('제일 많이 출시 된 Genre와 출시량 :', Genre_group.idxmax(axis=1),',',Genre_group.max())\n",
        "print('제일 적게 출시 된 Genre와 출시량 :', Genre_group.idxmin(axis=1),',',Genre_group.min())\n",
        "Genre_group.plot(kind='bar',rot=0,figsize=(20,10)); #장르별 출시량 시각화"
      ],
      "execution_count": null,
      "outputs": []
    },
    {
      "cell_type": "code",
      "metadata": {
        "id": "jgmCYmy70FJY"
      },
      "source": [
        "# 장르별 판매량 \n",
        "Genre_Sales = all_sales.groupby(df['Genre']) \n",
        "Genre_Sales = Genre_Sales.sum()\n",
        "Genre_Sales.plot(kind='bar',rot=0,figsize=(20,10)); #장르별 판매량 시각화"
      ],
      "execution_count": null,
      "outputs": []
    },
    {
      "cell_type": "code",
      "metadata": {
        "id": "RtYSwJpJ0FJZ"
      },
      "source": [
        "# 지역별 많이 팔린 장르\n",
        "Genre_Sales_max=Genre_Sales.idxmax()\n",
        "Genre_Sales_max"
      ],
      "execution_count": null,
      "outputs": []
    },
    {
      "cell_type": "code",
      "metadata": {
        "id": "kCsDf8Yo1ZV0"
      },
      "source": [
        "#장르별 플랫폼별 출시게임\n",
        "df.groupby(['Genre','Platform', 'Name']).max()"
      ],
      "execution_count": null,
      "outputs": []
    },
    {
      "cell_type": "code",
      "metadata": {
        "id": "fXbUJM0yDJcq"
      },
      "source": [
        "print(cent_year.loc[cent_year[\"80's\"] == cent_year[\"80's\"].max()])\n",
        "print(cent_year.loc[cent_year[\"90's\"] == cent_year[\"90's\"].max()])\n",
        "print(cent_year.loc[cent_year[\"00's\"] == cent_year[\"00's\"].max()])\n",
        "print(cent_year.loc[cent_year[\"10's\"] == cent_year[\"10's\"].max()])\n",
        "print(cent_year.loc[cent_year[\"20's\"] == cent_year[\"20's\"].max()])\n",
        "print(cent_year.loc[cent_year[\"all\"] == cent_year[\"all\"].max()])"
      ],
      "execution_count": null,
      "outputs": []
    },
    {
      "cell_type": "markdown",
      "metadata": {
        "id": "nThe5zeJ9pWp"
      },
      "source": [
        "# Country"
      ]
    },
    {
      "cell_type": "code",
      "metadata": {
        "id": "epEqEawU9vSA"
      },
      "source": [
        "NA = pd.DataFrame(df.loc[:, 'Name': 'NA_Sales']).reset_index(drop=True)\n",
        "NA_max = NA.loc[NA['NA_Sales'] == NA['NA_Sales'].max()]\n",
        "\n",
        "EU = pd.DataFrame(df[['Name', 'Platform',\t'Year',\t'Genre', 'Publisher', 'EU_Sales']]).reset_index(drop=True)\n",
        "EU_max = EU.loc[EU['EU_Sales'] == EU['EU_Sales'].max()]\n",
        "\n",
        "JP = pd.DataFrame(df[['Name', 'Platform',\t'Year',\t'Genre', 'Publisher', 'JP_Sales']]).reset_index(drop=True)\n",
        "JP_max = JP.loc[JP['JP_Sales'] == JP['JP_Sales'].max()]\n",
        "\n",
        "Other = pd.DataFrame(df[['Name', 'Platform',\t'Year',\t'Genre', 'Publisher', 'Other_Sales']]).reset_index(drop=True)\n",
        "Other_max = Other.loc[Other['Other_Sales'] == Other['Other_Sales'].max()]\n",
        "\n",
        "Total = pd.DataFrame(df[['Name', 'Platform',\t'Year',\t'Genre', 'Publisher', 'Total_Sales']]).reset_index(drop=True)\n",
        "Total_max = Total.loc[Total['Total_Sales'] == Total['Total_Sales'].max()]\n",
        "Total_max "
      ],
      "execution_count": null,
      "outputs": []
    },
    {
      "cell_type": "code",
      "metadata": {
        "id": "ztpTziTSRHrC"
      },
      "source": [
        "# 지역별 총 판매량\n",
        "Na_total = df.NA_Sales.sum()\n",
        "EU_total = df.EU_Sales.sum()\n",
        "JP_total = df.JP_Sales.sum()\n",
        "Other_total = df.Other_Sales.sum()\n",
        "total = pd.DataFrame([Na_total, EU_total,JP_total,Other_total])\n",
        "total.index = ['Na_total','EU_total','JP_total','Other_total']\n",
        "total.columns = ['Total']\n",
        "total"
      ],
      "execution_count": null,
      "outputs": []
    },
    {
      "cell_type": "code",
      "metadata": {
        "id": "ZVH2wZlWMbOC"
      },
      "source": [
        "# 지역별 가장 많이 판매된 게임\n",
        "best = pd.concat([NA_max, EU_max,JP_max,Other_max,Total_max]).reset_index(drop=True)\n",
        "best"
      ],
      "execution_count": null,
      "outputs": []
    },
    {
      "cell_type": "markdown",
      "metadata": {
        "id": "ATF_z6Gi6iF5"
      },
      "source": [
        "# 지역별 선호"
      ]
    },
    {
      "cell_type": "code",
      "metadata": {
        "id": "fbp6yT-O7vi1"
      },
      "source": [
        "country = pd.concat([Platform_Sales_max, Genre_Sales_max, Year_Sales_max],axis=1)\n",
        "country = pd.DataFrame(country)\n",
        "\n",
        "country.columns = 'prefer_Platform','prefer_Genre','prefer_Year'\n",
        "country"
      ],
      "execution_count": null,
      "outputs": []
    },
    {
      "cell_type": "markdown",
      "metadata": {
        "id": "z_iBnvDqPbB0"
      },
      "source": [
        "# 연도별 트렌드"
      ]
    },
    {
      "cell_type": "code",
      "metadata": {
        "id": "UyWcf5356gXo"
      },
      "source": [
        "#연도별 출시장르\n",
        "cro_Genre_Year = pd.crosstab(df.Year,df.Genre)\n",
        "eighty = cro_Genre_Year[:10].sum()\n",
        "ninety = cro_Genre_Year[10:20].sum()\n",
        "twothou = cro_Genre_Year[20:30].sum()\n",
        "ten = cro_Genre_Year[30:38].sum()\n",
        "twenty = cro_Genre_Year[38:].sum()\n",
        "all = cro_Genre_Year.sum()\n",
        "\n",
        "name = \"80's\", \"90's\", \"00's\", \"10's\", \"20's\", \"all\"\n",
        "cent_year = pd.concat([eighty, ninety, twothou, ten, twenty, all],axis=1)\n",
        "cent_year = pd.DataFrame(cent_year)\n",
        "cent_year.columns = name\n",
        "print(cent_year)\n",
        "cent_year.plot(kind='bar',rot=0,figsize=(20,10)); #연도별 출시장르 시각화\n"
      ],
      "execution_count": null,
      "outputs": []
    },
    {
      "cell_type": "markdown",
      "metadata": {
        "id": "Oxmc6tQCP-L3"
      },
      "source": [
        "# 출고량이 높은 게임"
      ]
    },
    {
      "cell_type": "code",
      "metadata": {
        "id": "UdBBwskbNTJh"
      },
      "source": [
        "#지역별 판매량이 가장 많은 게임\n",
        "best = pd.concat([NA_max, EU_max,JP_max,Other_max,Total_max]).reset_index(drop=True)\n",
        "best = best.set_index(best.Name)\n",
        "best\n",
        "# print(best)\n",
        "# best.plot(kind='bar',rot=0,figsize=(20,10));"
      ],
      "execution_count": null,
      "outputs": []
    },
    {
      "cell_type": "code",
      "metadata": {
        "id": "HYtTHfQMXdMl"
      },
      "source": [
        "best['best_per'] = [((df.NA_Sales.max()/Na_total)*100), ((df.EU_Sales.max()/EU_total)*100),\n",
        "                         ((df.JP_Sales.max()/JP_total)*100),((df.Other_Sales.max()/Other_total)*100),\n",
        "                         ((df.Total_Sales.max()/(df.Total_Sales.sum())*100))]\n",
        "# best_per = best_per.set_index(best.Name)\n",
        "best"
      ],
      "execution_count": null,
      "outputs": []
    },
    {
      "cell_type": "code",
      "metadata": {
        "id": "hVasrfg5FOJ8"
      },
      "source": [
        "#  제일 많이 판매된 게임\n",
        "best_Na = df.loc[(df['Name'] == 'Grand Theft Auto V')].reset_index(drop=True)\n",
        "best_Na"
      ],
      "execution_count": null,
      "outputs": []
    },
    {
      "cell_type": "code",
      "metadata": {
        "id": "uKbrakjEjhx8"
      },
      "source": [
        "na = df.NA_Sales\n",
        "na_len = len(na)\n",
        "na_len\n",
        "max_na = max(na)\n",
        "max_na\n",
        "sorted_values = sorted(na)\n",
        "second_largest_value = sorted_values[-2]\n",
        "second_largest_value\n",
        "second_na = df.loc[(df['NA_Sales'] == 7030000.0)]\n",
        "second_na"
      ],
      "execution_count": null,
      "outputs": []
    },
    {
      "cell_type": "code",
      "metadata": {
        "id": "oRku8OkBkz2d"
      },
      "source": [
        "third_largest_value = sorted_values[-3]\n",
        "third_largest_value\n",
        "third_na = df.loc[(df['NA_Sales'] == 5550000.0)]\n",
        "third_na"
      ],
      "execution_count": null,
      "outputs": []
    },
    {
      "cell_type": "markdown",
      "metadata": {
        "id": "G15DCwFt3llv"
      },
      "source": [
        "# Result"
      ]
    },
    {
      "cell_type": "code",
      "metadata": {
        "id": "E59MnpQ93Kzg"
      },
      "source": [
        "result = pd.crosstab(df.Genre,df.Platform)\n",
        "result"
      ],
      "execution_count": null,
      "outputs": []
    },
    {
      "cell_type": "code",
      "metadata": {
        "id": "-18394iM3hBg"
      },
      "source": [
        "stats.chi2_contingency(observed=result)\n",
        "# 카이제곱값 = 5820.019068400998\n",
        "# p-value = 0.0\n",
        "# 유의확률이 0.0이므로 유의 수준 0.05에서 Genre와 Platform 간에는 유의한 관련성이 있는것으로 볼 수 있다."
      ],
      "execution_count": null,
      "outputs": []
    },
    {
      "cell_type": "code",
      "metadata": {
        "id": "RINsWSD-5J8r"
      },
      "source": [
        "result_2 = stats.ranksums(df.Genre,df.Platform)\n",
        "result_2"
      ],
      "execution_count": null,
      "outputs": []
    }
  ]
}