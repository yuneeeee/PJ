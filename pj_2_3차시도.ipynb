{
  "nbformat": 4,
  "nbformat_minor": 0,
  "metadata": {
    "colab": {
      "name": "pj_2_3차시도",
      "private_outputs": true,
      "provenance": [],
      "collapsed_sections": [],
      "authorship_tag": "ABX9TyMVah1wgSCAJC9dhtzQSTKS",
      "include_colab_link": true
    },
    "kernelspec": {
      "name": "python3",
      "display_name": "Python 3"
    },
    "language_info": {
      "name": "python"
    },
    "accelerator": "GPU"
  },
  "cells": [
    {
      "cell_type": "markdown",
      "metadata": {
        "id": "view-in-github",
        "colab_type": "text"
      },
      "source": [
        "<a href=\"https://colab.research.google.com/github/yuneeeee/PJ/blob/main/pj_2_3%EC%B0%A8%EC%8B%9C%EB%8F%84.ipynb\" target=\"_parent\"><img src=\"https://colab.research.google.com/assets/colab-badge.svg\" alt=\"Open In Colab\"/></a>"
      ]
    },
    {
      "cell_type": "code",
      "source": [
        "%matplotlib inline\n",
        "\n",
        "import pandas as pd\n",
        "import numpy as np\n",
        "# 시각화\n",
        "import matplotlib.pyplot as plt \n",
        "import seaborn as sns\n",
        "# 경고문구 생략\n",
        "import warnings\n",
        "warnings.filterwarnings('ignore')"
      ],
      "metadata": {
        "id": "F7y6e5sf7I-K"
      },
      "execution_count": null,
      "outputs": []
    },
    {
      "cell_type": "code",
      "source": [
        "hotel_df = pd.read_csv(\"https://raw.githubusercontent.com/yoonkt200/FastCampusDataset/master/tripadviser_review.csv\")\n",
        "# rating = 별점 , text = 리뷰내용\n",
        "hotel_df.head()"
      ],
      "metadata": {
        "id": "aIB97I4b7KgH"
      },
      "execution_count": null,
      "outputs": []
    },
    {
      "cell_type": "code",
      "source": [
        "# df의 정보확인\n",
        "print(f'데이터 크기\\n{hotel_df.shape}\\n\\n결측치\\n{hotel_df.isnull().sum()}\\n')\n",
        "print(f'rating 컬럼의 값 정보\\n{hotel_df.rating.value_counts()}')\n",
        "print('제일 긴 리뷰 글자 수:' ,max(len(i) for i in hotel_df.text)) # 제일 긴 리뷰\n",
        "print('제일 짧은 리뷰 글자 수:',min(len(i) for i in hotel_df.text)) # 제일 짧은 리뷰"
      ],
      "metadata": {
        "id": "y0-h1bR27MWZ"
      },
      "execution_count": null,
      "outputs": []
    },
    {
      "cell_type": "code",
      "source": [
        "print(hotel_df['text'].nunique())\n",
        "hotel_df.drop_duplicates(subset=['text'], inplace=True) # 중복 제거\n",
        "print(f'중복데이터 제거 후 데이터 크기: {hotel_df.shape}')"
      ],
      "metadata": {
        "id": "CIly4NOFuGbt"
      },
      "execution_count": null,
      "outputs": []
    },
    {
      "cell_type": "code",
      "source": [
        "# 정규식을 통해 데이터 정리\n",
        "hotel_df['text'] = hotel_df['text'].str.replace('[^ ㄱ-ㅣ 가-힣]','') \n",
        "hotel_df[:5]"
      ],
      "metadata": {
        "id": "Uu8ZRRLxwcMk"
      },
      "execution_count": null,
      "outputs": []
    },
    {
      "cell_type": "code",
      "source": [
        "hotel_df['text'].replace('', np.nan, inplace=True)\n",
        "print(len(hotel_df)) \n",
        "print(hotel_df.isnull().sum()) \n",
        "hotel_df = hotel_df.dropna(how='any')\n",
        "print(f'정제한 데이터의 결측값 제거 후 데이터 크기: {hotel_df.shape}')"
      ],
      "metadata": {
        "id": "sM4ubP03xCIx"
      },
      "execution_count": null,
      "outputs": []
    },
    {
      "cell_type": "code",
      "source": [
        "# 한글 형태소 분석기 konlpy 다운로드\n",
        "# !pip install konlpy==0.5.2 jpype1 Jpype1-py3"
      ],
      "metadata": {
        "id": "lS0qbckb7QQh"
      },
      "execution_count": null,
      "outputs": []
    },
    {
      "cell_type": "code",
      "source": [
        "# text 컬럼의 단어들로 말주머니 만들기\n",
        "hotel_corpus = \"\".join(hotel_df['text'])"
      ],
      "metadata": {
        "id": "nwQZwo5oMLQR"
      },
      "execution_count": null,
      "outputs": []
    },
    {
      "cell_type": "markdown",
      "source": [
        "# Okt로 형태소 추출"
      ],
      "metadata": {
        "id": "TrZOZPjLQOZT"
      }
    },
    {
      "cell_type": "code",
      "source": [
        "# 명사 형태소 추출\n",
        "from konlpy.tag import Okt\n",
        "from collections import Counter"
      ],
      "metadata": {
        "id": "XqCeHTv5-uJE"
      },
      "execution_count": null,
      "outputs": []
    },
    {
      "cell_type": "code",
      "source": [
        "okt = Okt()  # 명사 형태소 추출 함수\n",
        "hotel_corpusnouns_okt = okt.nouns(hotel_corpus)"
      ],
      "metadata": {
        "id": "8AQwXaZSBj2d"
      },
      "execution_count": null,
      "outputs": []
    },
    {
      "cell_type": "code",
      "source": [
        "counter = Counter(hotel_corpusnouns_okt)"
      ],
      "metadata": {
        "id": "NADI7ccQQaQ6"
      },
      "execution_count": null,
      "outputs": []
    },
    {
      "cell_type": "code",
      "source": [
        "counter.most_common(10)"
      ],
      "metadata": {
        "id": "YWEyDyXiQaQ7"
      },
      "execution_count": null,
      "outputs": []
    },
    {
      "cell_type": "code",
      "source": [
        "available_counter = Counter({x: counter[x] for x in counter if len(x) > 1})\n",
        "available_counter.most_common(10)"
      ],
      "metadata": {
        "id": "A1PYpYv-QaQ7"
      },
      "execution_count": null,
      "outputs": []
    },
    {
      "cell_type": "markdown",
      "source": [
        "# 불용어 사전"
      ],
      "metadata": {
        "id": "E-LBYr89kwnH"
      }
    },
    {
      "cell_type": "code",
      "source": [
        "# RANKS NL에 제공해주는 한국어 불용어 사전\n",
        "stopwords = pd.read_csv(\"https://raw.githubusercontent.com/yoonkt200/FastCampusDataset/master/korean_stopwords.txt\").values.tolist()\n",
        "stopwords[:10]"
      ],
      "metadata": {
        "id": "Pyl8usCpkvqC"
      },
      "execution_count": null,
      "outputs": []
    },
    {
      "cell_type": "code",
      "source": [
        "jeju_hotel_stopwords = ['제주', '제주도', '호텔', '리뷰', '숙소', '여행', '트립','의','가','이','은','들','는','좀','잘','걍','과','도','를','으로','자','에','와','한','하다']\n",
        "for word in jeju_hotel_stopwords:\n",
        "    stopwords.append(word)"
      ],
      "metadata": {
        "id": "y-22AS5914CD"
      },
      "execution_count": null,
      "outputs": []
    },
    {
      "cell_type": "markdown",
      "source": [
        "# BoW 벡터 생성 후 TF-IDF 변환"
      ],
      "metadata": {
        "id": "Co0tBqBDIRGh"
      }
    },
    {
      "cell_type": "code",
      "source": [
        "import re\n",
        "from sklearn.feature_extraction.text import CountVectorizer\n",
        "\n",
        "def text_cleaning(text):\n",
        "    # 정규 표현식 처리\n",
        "    hangul = re.compile('[^ ㄱ-ㅣ 가-힣]')  \n",
        "    result = hangul.sub('', text)\n",
        "    # 명사 형태소 추출\n",
        "    okt = Okt()  \n",
        "    nouns = okt.nouns(result)\n",
        "    # 한글자 키워드 제거\n",
        "    nouns = [x for x in nouns if len(x) > 1]  \n",
        "    # 불용어 제거\n",
        "    nouns = [x for x in nouns if x not in stopwords]  \n",
        "    return nouns\n",
        "\n",
        "vect = CountVectorizer(tokenizer = lambda x: text_cleaning(x))\n",
        "bow_vect = vect.fit_transform(hotel_df['text'].tolist())\n",
        "# word_list = vect.get_feature_names() # 명사 형태소\n",
        "# count_list = bow_vect.toarray().sum(axis=0) # 각 단어가 전체 리뷰중에 등장한 총 횟수"
      ],
      "metadata": {
        "id": "huD4fFM87y-h"
      },
      "execution_count": null,
      "outputs": []
    },
    {
      "cell_type": "code",
      "source": [
        "# BoW -> TF-IDF\n",
        "from sklearn.feature_extraction.text import TfidfTransformer\n",
        "\n",
        "tfidf_vectorizer = TfidfTransformer()\n",
        "tf_idf_vect = tfidf_vectorizer.fit_transform(bow_vect)"
      ],
      "metadata": {
        "id": "2jmTQZ_z8d8N"
      },
      "execution_count": null,
      "outputs": []
    },
    {
      "cell_type": "code",
      "source": [
        "#  mapping\n",
        "invert_index_vectorizer = {v: k for k, v in vect.vocabulary_.items()}\n",
        "print(str(invert_index_vectorizer)[:100]+'...')"
      ],
      "metadata": {
        "id": "UEBxfmRD86EX"
      },
      "execution_count": null,
      "outputs": []
    },
    {
      "cell_type": "code",
      "source": [
        "voca_size = len(invert_index_vectorizer)"
      ],
      "metadata": {
        "id": "adgmMhgWZtBE"
      },
      "execution_count": null,
      "outputs": []
    },
    {
      "cell_type": "markdown",
      "source": [
        "# 감정분류 모델\n",
        "LogisticRegression"
      ],
      "metadata": {
        "id": "VT8k3JpuMIrF"
      }
    },
    {
      "cell_type": "code",
      "source": [
        "# 긍정 부정 이 두가지 감정으로 분석하기위해 rating을 이진변수로 변환\n",
        "\n",
        "def rating_to_label(rating):\n",
        "    if rating > 3:\n",
        "        return 1\n",
        "    else:\n",
        "        return 0\n",
        "    \n",
        "hotel_df['label'] = hotel_df['rating'].apply(lambda x: rating_to_label(x))"
      ],
      "metadata": {
        "id": "I7V_SQDyMR88"
      },
      "execution_count": null,
      "outputs": []
    },
    {
      "cell_type": "code",
      "source": [
        "hotel_df.head()"
      ],
      "metadata": {
        "id": "bZGENCLhMelh"
      },
      "execution_count": null,
      "outputs": []
    },
    {
      "cell_type": "code",
      "source": [
        "hotel_df['label'].value_counts()\n",
        "\n",
        "# 긍정이 726 부정이 275개로 비율이 맞지 않음\n"
      ],
      "metadata": {
        "id": "x8MS0u6DOuAy"
      },
      "execution_count": null,
      "outputs": []
    },
    {
      "cell_type": "code",
      "source": [
        "# 비율 조정\n",
        "pos_random_idx = hotel_df[hotel_df['label']==1].sample(275, random_state=12).index.tolist()\n",
        "neg_random_idx = hotel_df[hotel_df['label']==0].sample(275, random_state=12).index.tolist()"
      ],
      "metadata": {
        "id": "lG7-eBDdO1mS"
      },
      "execution_count": null,
      "outputs": []
    },
    {
      "cell_type": "code",
      "source": [
        "# 데이터셋 나누기\n",
        "from sklearn.model_selection import train_test_split\n",
        "\n",
        "random_idx = pos_random_idx + neg_random_idx\n",
        "\n",
        "X = tf_idf_vect[random_idx]\n",
        "y = hotel_df['label'][random_idx]\n",
        "X_train, X_test, y_train, y_test = train_test_split(X, \n",
        "                                                    y, \n",
        "                                                    test_size = 0.3, \n",
        "                                                    random_state=333)"
      ],
      "metadata": {
        "id": "gCcHaBjsM5ah"
      },
      "execution_count": null,
      "outputs": []
    },
    {
      "cell_type": "code",
      "source": [
        "X_train.shape, y_train.shape"
      ],
      "metadata": {
        "id": "ZftTfVtnNbUI"
      },
      "execution_count": null,
      "outputs": []
    },
    {
      "cell_type": "code",
      "source": [
        "X_test.shape, y_test.shape"
      ],
      "metadata": {
        "id": "vj6ZJSwMNf5P"
      },
      "execution_count": null,
      "outputs": []
    },
    {
      "cell_type": "code",
      "source": [
        "# LogisticRegression로 학습 \n",
        "from sklearn.linear_model import LogisticRegression\n",
        "from sklearn.metrics import accuracy_score, precision_score, recall_score, f1_score\n",
        "\n",
        "# fit in training set\n",
        "lr = LogisticRegression(random_state = 0)\n",
        "lr.fit(X_train, y_train)\n",
        "\n",
        "# predict in test set\n",
        "y_pred = lr.predict(X_test)\n",
        "\n",
        "# 결과\n",
        "print('accuracy: %.2f' % accuracy_score(y_test, y_pred))\n",
        "print('precision: %.2f' % precision_score(y_test, y_pred))\n",
        "print('recall: %.2f' % recall_score(y_test, y_pred))\n",
        "print('F1: %.2f' % f1_score(y_test, y_pred))"
      ],
      "metadata": {
        "id": "d80_aUZ5NkX_"
      },
      "execution_count": null,
      "outputs": []
    },
    {
      "cell_type": "code",
      "source": [
        "# confusion_matrix로 시각화\n",
        "from sklearn.metrics import confusion_matrix\n",
        "\n",
        "confu = confusion_matrix(y_true = y_test, y_pred = y_pred)\n",
        "\n",
        "plt.figure(figsize=(4, 3))\n",
        "sns.heatmap(confu, annot=True, annot_kws={'size':15}, cmap='OrRd', fmt='.10g')\n",
        "plt.title('Confusion Matrix')\n",
        "plt.show()"
      ],
      "metadata": {
        "id": "uRUKxdqMOUWR"
      },
      "execution_count": null,
      "outputs": []
    },
    {
      "cell_type": "code",
      "source": [
        "# 각 단어의 coef를 시각화\n",
        "lr.coef_\n",
        "plt.figure(figsize=(10, 8))\n",
        "plt.bar(range(len(lr.coef_[0])), lr.coef_[0])\n",
        "# 양의계수 단어들은 긍정에 영향을 끼침"
      ],
      "metadata": {
        "id": "zAbisKRKTx2m"
      },
      "execution_count": null,
      "outputs": []
    },
    {
      "cell_type": "code",
      "source": [
        "coef_pos_index = sorted(((value, index) for index, value in enumerate(lr.coef_[0])), reverse = True)\n",
        "coef_neg_index = sorted(((value, index) for index, value in enumerate(lr.coef_[0])), reverse = False)"
      ],
      "metadata": {
        "id": "Lddjwld1Vp6v"
      },
      "execution_count": null,
      "outputs": []
    },
    {
      "cell_type": "code",
      "source": [
        "# 긍정에 영향을 준 단어들\n",
        "for coef in coef_pos_index[:5]:\n",
        "    print(invert_index_vectorizer[coef[1]], coef[0])"
      ],
      "metadata": {
        "id": "AYxvDMeUWPFB"
      },
      "execution_count": null,
      "outputs": []
    },
    {
      "cell_type": "code",
      "source": [
        "# 부정에 영향을 준 단어 \n",
        "for coef in coef_neg_index[:5]:\n",
        "    print(invert_index_vectorizer[coef[1]], coef[0])"
      ],
      "metadata": {
        "id": "85xWCZo6WVQJ"
      },
      "execution_count": null,
      "outputs": []
    }
  ]
}